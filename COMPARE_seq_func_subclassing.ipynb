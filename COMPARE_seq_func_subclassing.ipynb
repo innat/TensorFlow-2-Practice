{
 "cells": [
  {
   "cell_type": "markdown",
   "metadata": {},
   "source": [
    "# Sequential Model"
   ]
  },
  {
   "cell_type": "code",
   "execution_count": null,
   "metadata": {},
   "outputs": [],
   "source": [
    "import tensorflow as tf \n",
    "\n",
    "seq_model = tf.keras.Sequential()\n",
    "seq_model.add(tf.keras.Input(shape=(28, 28, 3))) \n",
    "\n",
    "seq_model.add(tf.keras.layers.Conv2D(32, 3, strides=2, activation=\"relu\"))\n",
    "seq_model.add(tf.keras.layers.MaxPooling2D(3))\n",
    "seq_model.add(tf.keras.layers.BatchNormalization())\n",
    "\n",
    "seq_model.add(tf.keras.layers.Conv2D(64, 3, activation=\"relu\"))\n",
    "seq_model.add(tf.keras.layers.BatchNormalization())\n",
    "seq_model.add(tf.keras.layers.Dropout(0.3))\n",
    "\n",
    "# Now that we have 4x4 feature maps, time to apply global max pooling.\n",
    "seq_model.add(tf.keras.layers.GlobalMaxPooling2D())\n",
    "\n",
    "# Finally, we add a classification layer.\n",
    "seq_model.add(tf.keras.layers.Dense(10))"
   ]
  },
  {
   "cell_type": "markdown",
   "metadata": {},
   "source": [
    "# Functional Model"
   ]
  },
  {
   "cell_type": "code",
   "execution_count": null,
   "metadata": {},
   "outputs": [],
   "source": [
    "input = tf.keras.Input(shape=(28, 28, 3))\n",
    "x = tf.keras.layers.Conv2D(32, 3, strides=2, activation=\"relu\")(input)\n",
    "x = tf.keras.layers.MaxPooling2D(3)(x)\n",
    "x = tf.keras.layers.BatchNormalization()(x)\n",
    "\n",
    "x = tf.keras.layers.Conv2D(64, 3, activation=\"relu\")(x)\n",
    "x = tf.keras.layers.BatchNormalization()(x)\n",
    "x = tf.keras.layers.Dropout(0.3)(x)\n",
    "gap = tf.keras.layers.GlobalMaxPooling2D()(x)\n",
    "output = tf.keras.layers.Dense(10)(gap)\n",
    "\n",
    "func_model = tf.keras.Model(input, output)"
   ]
  },
  {
   "cell_type": "markdown",
   "metadata": {},
   "source": [
    "# Model Subclassing"
   ]
  },
  {
   "cell_type": "code",
   "execution_count": null,
   "metadata": {},
   "outputs": [],
   "source": [
    "class ModelSubClassing(tf.keras.Model):\n",
    "    def __init__(self, num_classes):\n",
    "        super(ModelSubClassing, self).__init__()\n",
    "        # define all layers in init\n",
    "        self.conv1 = tf.keras.layers.Conv2D(32, 3, strides=2, activation=\"relu\")\n",
    "        self.max1  = tf.keras.layers.MaxPooling2D(3)\n",
    "        self.bn1   = tf.keras.layers.BatchNormalization()\n",
    "\n",
    "        self.conv2 = tf.keras.layers.Conv2D(64, 3, activation=\"relu\")\n",
    "        self.bn2   = tf.keras.layers.BatchNormalization()\n",
    "        self.drop  = tf.keras.layers.Dropout(0.3)\n",
    "\n",
    "        self.gap   = tf.keras.layers.GlobalAveragePooling2D()\n",
    "        self.dense = tf.keras.layers.Dense(num_classes)\n",
    "\n",
    "    def call(self, input_tensor, training=False):\n",
    "        x = self.conv1(input_tensor)\n",
    "        x = self.max1(x)\n",
    "        x = self.bn1(x)\n",
    "        x = self.conv2(x)\n",
    "        x = self.bn2(x)\n",
    "        x = self.drop(x)\n",
    "        x = self.gap(x)\n",
    "        return self.dense(x)\n",
    "\n",
    "    def build_graph(self):\n",
    "        x = tf.keras.layers.Input(shape=(28,28,3))\n",
    "        return tf.keras.Model(inputs=[x], outputs=self.call(x))"
   ]
  },
  {
   "cell_type": "markdown",
   "metadata": {},
   "source": [
    "# Data Set and Training"
   ]
  },
  {
   "cell_type": "code",
   "execution_count": null,
   "metadata": {},
   "outputs": [],
   "source": [
    "import numpy as np\n",
    "\n",
    "(x_train, y_train), (x_test, y_test) = tf.keras.datasets.mnist.load_data()\n",
    "\n",
    "print(x_train.shape, y_train.shape)\n",
    "print(x_test.shape, y_test.shape)\n",
    "\n",
    "# train set / data \n",
    "x_train = np.expand_dims(x_train, axis=-1)\n",
    "x_train = np.repeat(x_train, 3, axis=-1)\n",
    "x_train = x_train.astype('float32') / 255\n",
    "# train set / target \n",
    "y_train = tf.keras.utils.to_categorical(y_train, num_classes=10)\n",
    "\n",
    "# validation set / data \n",
    "x_test = np.expand_dims(x_test, axis=-1)\n",
    "x_test = np.repeat(x_test, 3, axis=-1)\n",
    "x_test = x_test.astype('float32') / 255\n",
    "# validation set / target \n",
    "y_test = tf.keras.utils.to_categorical(y_test, num_classes=10)\n",
    "\n",
    "\n",
    "# compile \n",
    "print('Sequential API')\n",
    "seq_model.compile(loss = tf.keras.losses.CategoricalCrossentropy(),\n",
    "              metrics = tf.keras.metrics.CategoricalAccuracy(),\n",
    "              optimizer = tf.keras.optimizers.Adam())\n",
    "# fit \n",
    "seq_model.fit(x_train, y_train,\n",
    "         batch_size=128, epochs=1)\n",
    "\n",
    "\n",
    "# compile \n",
    "print('\\nFunctional API')\n",
    "func_model.compile(loss = tf.keras.losses.CategoricalCrossentropy(),\n",
    "              metrics = tf.keras.metrics.CategoricalAccuracy(),\n",
    "              optimizer = tf.keras.optimizers.Adam())\n",
    "# fit \n",
    "func_model.fit(x_train, y_train,\n",
    "         batch_size=128, epochs=1)\n",
    "\n",
    "\n",
    "# compile \n",
    "print('\\nModel Sub-Classing API')\n",
    "sub_classing_model = ModelSubClassing(10)\n",
    "sub_classing_model.compile(loss = tf.keras.losses.CategoricalCrossentropy(),\n",
    "              metrics = tf.keras.metrics.CategoricalAccuracy(),\n",
    "              optimizer = tf.keras.optimizers.Adam())\n",
    "# fit \n",
    "sub_classing_model.fit(x_train, y_train,\n",
    "         batch_size=128, epochs=1);"
   ]
  }
 ],
 "metadata": {
  "kernelspec": {
   "display_name": "Python 3",
   "language": "python",
   "name": "python3"
  },
  "language_info": {
   "codemirror_mode": {
    "name": "ipython",
    "version": 3
   },
   "file_extension": ".py",
   "mimetype": "text/x-python",
   "name": "python",
   "nbconvert_exporter": "python",
   "pygments_lexer": "ipython3",
   "version": "3.7.7"
  }
 },
 "nbformat": 4,
 "nbformat_minor": 4
}
